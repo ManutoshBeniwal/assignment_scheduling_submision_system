{
 "cells": [
  {
   "cell_type": "markdown",
   "id": "1ef218d3-a0e7-47db-99b1-5c50cd38a86f",
   "metadata": {},
   "source": [
    "### Importing required libraries ###"
   ]
  },
  {
   "cell_type": "code",
   "execution_count": 2,
   "id": "5be05a3e-f104-4fcb-af61-489ff871c7cd",
   "metadata": {},
   "outputs": [],
   "source": [
    "import pandas as pd\n",
    "import faker as f\n",
    "import random\n",
    "from datetime import timedelta,datetime\n",
    "from collections import defaultdict"
   ]
  },
  {
   "cell_type": "markdown",
   "id": "d80d4f37-1371-4bfa-903f-f4e7ee9b3086",
   "metadata": {},
   "source": [
    "###  Defining Constants "
   ]
  },
  {
   "cell_type": "code",
   "execution_count": 3,
   "id": "9320b86b-61f0-41a2-a972-70a7744fbea8",
   "metadata": {},
   "outputs": [],
   "source": [
    "NO_STUDENTS=120\n",
    "NO_PROFESSORS=12\n",
    "NO_COURSES=15\n",
    "NO_ASSIGNMENTS=30"
   ]
  },
  {
   "cell_type": "code",
   "execution_count": 4,
   "id": "99169c3a-3cd3-4445-818d-6dc67ae328f3",
   "metadata": {},
   "outputs": [],
   "source": [
    "fake=f.Faker()"
   ]
  },
  {
   "cell_type": "markdown",
   "id": "bee49169-cf90-431c-a14c-2edcc0335403",
   "metadata": {},
   "source": [
    "### User Table"
   ]
  },
  {
   "cell_type": "code",
   "execution_count": 5,
   "id": "b85bf629-970c-44ff-9481-4383a43fd9d3",
   "metadata": {},
   "outputs": [],
   "source": [
    "users=[{\n",
    "    'user_id':i+1,\n",
    "    'name': fake.name(),\n",
    "    'email':fake.email(),\n",
    "    'role':'student' if i+1<=NO_STUDENTS else 'professor'}\n",
    "          for i in range(NO_STUDENTS+NO_PROFESSORS)]"
   ]
  },
  {
   "cell_type": "markdown",
   "id": "23d96e86-90c0-46f6-a80f-fb6cfc93a295",
   "metadata": {},
   "source": [
    "### Courses\n"
   ]
  },
  {
   "cell_type": "markdown",
   "id": "b8833f08-1e43-489d-b955-c305be0018dc",
   "metadata": {},
   "source": [
    "### creating courses table"
   ]
  },
  {
   "cell_type": "code",
   "execution_count": 6,
   "id": "603d1618-a374-472e-9b2f-dc00592383be",
   "metadata": {},
   "outputs": [],
   "source": [
    "base_subjects=['Math', 'Physics', 'History', 'Biology', 'Chemistry', 'Philosophy', 'Economics', 'Art']\n",
    "\n",
    "def generate_courses():\n",
    "    courses=set()\n",
    "    while len(courses)<NO_COURSES:\n",
    "        subject=random.choice(base_subjects)\n",
    "        level=random.choice(['101', '201', '301', 'Advanced', 'Intro to', 'Foundations of'])\n",
    "        if level.isdigit():\n",
    "            courses.add(f\"{subject} {level}\")\n",
    "        else:\n",
    "            courses.add(f\"{level} {subject}\")\n",
    "    return list(courses)\n",
    "\n",
    "fake_courses=generate_courses()"
   ]
  },
  {
   "cell_type": "code",
   "execution_count": 7,
   "id": "c14517f2-a219-4256-8ada-d8172930c8bb",
   "metadata": {},
   "outputs": [],
   "source": [
    "courses=[]\n",
    "professor_load=defaultdict(int)\n",
    "professor_ids=random.sample([u['user_id'] for u in users if u['role']=='professor'],NO_PROFESSORS)\n",
    "for i in range(1,NO_COURSES+1):\n",
    "    available=[pid for pid in professor_ids if professor_load[pid]<2]\n",
    "    chosen_prof=random.choice(available)\n",
    "    st_date=fake.date_between(start_date='-90d',end_date='-80d')\n",
    "    courses.append({\n",
    "        'course_id':i,\n",
    "        'course_name':fake_courses[i-1],\n",
    "        'professor_id':chosen_prof,\n",
    "        'start_date':st_date\n",
    "    })\n",
    "    professor_load[chosen_prof]+=1\n",
    "\n"
   ]
  },
  {
   "cell_type": "markdown",
   "id": "6633e7f9-0c78-40c3-9baa-26816baedd59",
   "metadata": {},
   "source": [
    "### enrollment table\n"
   ]
  },
  {
   "cell_type": "code",
   "execution_count": 8,
   "id": "f95fd666-9638-42de-aae4-60972dd56972",
   "metadata": {},
   "outputs": [],
   "source": [
    "course_ids=[c['course_id'] for c in courses]\n",
    "st_ids=random.sample([u['user_id'] for u in users if u['role']=='student'],NO_STUDENTS)\n",
    "enrollments=[]\n",
    "i=0\n",
    "for st_id in st_ids:\n",
    "    num_courses=random.randint(1,3)\n",
    "    selected_courses=random.sample(course_ids,num_courses)\n",
    "    for course_id in selected_courses:\n",
    "        i+=1\n",
    "        enrollments.append({\n",
    "            'enrollment_id':i,\n",
    "            'student_id':st_id,\n",
    "            'course_id':course_id\n",
    "        })\n"
   ]
  },
  {
   "cell_type": "markdown",
   "id": "64154eba-5330-4832-9a1a-2db5e2f13883",
   "metadata": {},
   "source": [
    "### Assignments Table"
   ]
  },
  {
   "cell_type": "code",
   "execution_count": 9,
   "id": "b6efae5f-82fd-4567-9fab-3b9fd9140644",
   "metadata": {},
   "outputs": [],
   "source": [
    "assignments=[]\n",
    "for i in range(NO_ASSIGNMENTS):\n",
    "    course=random.choice(course_ids)\n",
    "    st_date=next((c['start_date'] for c in courses if c['course_id']==course),None)\n",
    "    offsetdays=random.randint(-8,8)\n",
    "    due_date=st_date+timedelta(weeks=12)+timedelta(days=offsetdays)\n",
    "    assignments.append({\n",
    "        'assignment_id':i+1,\n",
    "        'course_id':course,\n",
    "        'title':f\"Assignment{i+1}\",\n",
    "        'due_date':due_date\n",
    "    }) \n",
    "    \n"
   ]
  },
  {
   "cell_type": "markdown",
   "id": "d2569f63-cd00-45b9-ab50-cabe3bf3161e",
   "metadata": {},
   "source": [
    "### deadlines\n"
   ]
  },
  {
   "cell_type": "code",
   "execution_count": 22,
   "id": "1ff6e92b-b5d9-4968-aa25-21ee31801a8b",
   "metadata": {},
   "outputs": [],
   "source": [
    "\n",
    "deadlines = []\n",
    "for a in assignments:\n",
    "    due = a['due_date']\n",
    "    sub_timeline = due+timedelta(days=7)\n",
    "    feedback_offset = random.randint(5, 10)\n",
    "    mark_submit_offset = random.randint(7, 12)\n",
    "    approval_offset = random.randint(2, 5)\n",
    "    hand_in_date=fake.date_between(start_date='-90d',end_date='-80d')\n",
    "    feedback_date = sub_timeline + timedelta(days=feedback_offset)\n",
    "    marks_submission_date = sub_timeline + timedelta(days=mark_submit_offset)\n",
    "    marks_approval_date = marks_submission_date + timedelta(days=approval_offset)\n",
    "\n",
    "    deadlines.append({\n",
    "        'assignment_id': a['assignment_id'],\n",
    "        'hand_in_date': hand_in_date,\n",
    "        'due_date': due,\n",
    "        'reminder_date': due - timedelta(days=3),\n",
    "        'feedback_date': feedback_date,\n",
    "        'marks_submission_date': marks_submission_date,\n",
    "        'marks_approval_date': marks_approval_date\n",
    "    })"
   ]
  },
  {
   "cell_type": "markdown",
   "id": "53b3f12e-b710-4f62-a4b4-9eac1a7b0dec",
   "metadata": {},
   "source": [
    "### Submissions"
   ]
  },
  {
   "cell_type": "code",
   "execution_count": 20,
   "id": "61ce0c9e-d2b3-41b5-a024-d9f5dea6e2cf",
   "metadata": {},
   "outputs": [],
   "source": [
    "submissions = []\n",
    "sub_id = 0\n",
    "enrollment_lookup = {}\n",
    "for e in enrollments:\n",
    "    enrollment_lookup.setdefault(e['course_id'], set()).add(e['student_id'])\n",
    "\n",
    "for a in assignments:\n",
    "    course_id = a['course_id']\n",
    "    due_date = a['due_date']\n",
    "\n",
    "    enrolled_students = enrollment_lookup.get(course_id, set())\n",
    "    if not enrolled_students:\n",
    "        continue \n",
    "    num_submitters = random.randint(int(len(enrolled_students) * 0.7), len(enrolled_students))\n",
    "    submitters = random.sample(list(enrolled_students), num_submitters)\n",
    "\n",
    "    for user_id in submitters:\n",
    "        sub_start_date = due_date - timedelta(days=7)\n",
    "        submission_date = fake.date_between(start_date=sub_start_date, end_date=due_date + timedelta(days=7))\n",
    "        raw_grade = random.randint(40, 100)\n",
    "        \n",
    "\n",
    "        days_late = max(0, (submission_date - due_date).days)\n",
    "        \n",
    "        if days_late > 5:\n",
    "            final_grade = 0\n",
    "        else:\n",
    "            final_grade = max(0, raw_grade - (days_late * 5))  \n",
    "\n",
    "        sub_id += 1\n",
    "        submissions.append({\n",
    "            'submission_id': sub_id,\n",
    "            'user_id': user_id,\n",
    "            'assignment_id': a['assignment_id'],\n",
    "            'submission_date': submission_date,\n",
    "            \"receipt_date\":submission_date+timedelta(days=random.randint(0,1)),\n",
    "            'grade': final_grade\n",
    "            \n",
    "        })"
   ]
  },
  {
   "cell_type": "markdown",
   "id": "e3d6ebe5-2428-4adc-b54d-0feec4e40694",
   "metadata": {},
   "source": [
    "### Converting to DF's"
   ]
  },
  {
   "cell_type": "code",
   "execution_count": 24,
   "id": "fea92b26-f4bc-4a70-a5bb-19723ff5d6f1",
   "metadata": {},
   "outputs": [],
   "source": [
    "df_users=pd.DataFrame(users)\n",
    "df_courses=pd.DataFrame(courses)\n",
    "df_assignments=pd.DataFrame(assignments)\n",
    "df_deadlines=pd.DataFrame(deadlines)\n",
    "df_submissions=pd.DataFrame(submissions)\n",
    "df_enrollments=pd.DataFrame(enrollments)"
   ]
  },
  {
   "cell_type": "markdown",
   "id": "b8586305-f9d9-4795-84cf-6503632436ea",
   "metadata": {},
   "source": [
    "### Exporting to CSV"
   ]
  },
  {
   "cell_type": "code",
   "execution_count": 25,
   "id": "46dddfa2-00b3-4a99-aa6c-cda7365e6d28",
   "metadata": {},
   "outputs": [],
   "source": [
    "df_users.to_csv('users.csv',index=False)\n",
    "df_courses.to_csv('courses.csv',index=False)\n",
    "df_assignments.to_csv('assignments.csv',index=False)\n",
    "df_deadlines.to_csv('deadlines.csv',index=False)\n",
    "df_submissions.to_csv('submissions.csv',index=False)\n",
    "df_enrollments.to_csv('enrollments.csv',index=False)"
   ]
  },
  {
   "cell_type": "code",
   "execution_count": 39,
   "id": "1a01d788-2fe9-4905-9b9c-e728cadc0a57",
   "metadata": {},
   "outputs": [],
   "source": [
    "import pandas as pd\n",
    "\n",
    "# Load CSVs\n",
    "submissions = pd.read_csv(\"submissions.csv\")\n",
    "users = pd.read_csv(\"users.csv\")\n",
    "assignments = pd.read_csv(\"assignments.csv\")\n",
    "courses = pd.read_csv(\"courses.csv\")\n",
    "deadlines = pd.read_csv(\"deadlines.csv\")\n",
    "enrollments = pd.read_csv(\"enrollments.csv\")\n",
    "\n",
    "# Merge steps\n",
    "df = submissions.merge(users, on='user_id', suffixes=('', '_student'))\n",
    "df = df.merge(assignments, on='assignment_id')\n",
    "df = df.merge(deadlines, on='assignment_id', how='left')\n",
    "df = df.merge(courses, on='course_id')\n",
    "\n",
    "# Join with professor info (self join on users table)\n",
    "df = df.merge(users, left_on='professor_id', right_on='user_id', suffixes=('', '_professor'))\n",
    "\n",
    "\n",
    "df = df.merge(enrollments, left_on=['course_id', 'user_id'], right_on=['course_id', 'student_id'], how='left')\n",
    "\n",
    "# Save to a single CSV\n",
    "df.to_csv(\"full_combined_data.csv\", index=False)\n"
   ]
  },
  {
   "cell_type": "code",
   "execution_count": null,
   "id": "90d51366-bfce-42cd-aee6-8a4f88841c27",
   "metadata": {},
   "outputs": [],
   "source": []
  }
 ],
 "metadata": {
  "kernelspec": {
   "display_name": "Python 3 (ipykernel)",
   "language": "python",
   "name": "python3"
  },
  "language_info": {
   "codemirror_mode": {
    "name": "ipython",
    "version": 3
   },
   "file_extension": ".py",
   "mimetype": "text/x-python",
   "name": "python",
   "nbconvert_exporter": "python",
   "pygments_lexer": "ipython3",
   "version": "3.12.7"
  }
 },
 "nbformat": 4,
 "nbformat_minor": 5
}
